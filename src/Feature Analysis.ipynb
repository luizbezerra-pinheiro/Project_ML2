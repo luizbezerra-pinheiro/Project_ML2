{
 "cells": [
  {
   "cell_type": "code",
   "execution_count": 1,
   "metadata": {
    "pycharm": {
     "is_executing": false
    }
   },
   "outputs": [],
   "source": [
    "import os\n",
    "import pandas as pd\n",
    "from sklearn.preprocessing import OneHotEncoder, LabelEncoder\n",
    "from IPython.core.display import display\n",
    "\n",
    "data_path = os.path.join(os.path.dirname(os.getcwd()), \"data\", \"CreditTraining.csv\")\n",
    "df = pd.read_csv(data_path)"
   ]
  },
  {
   "cell_type": "code",
   "execution_count": 2,
   "metadata": {
    "scrolled": true,
    "pycharm": {
     "is_executing": false
    }
   },
   "outputs": [
    {
     "data": {
      "text/plain": "   Id_Customer  Y        Customer_Type   BirthDate Customer_Open_Date  \\\n0         7440  0  Non Existing Client  07/08/1977         13/02/2012   \n1          573  0      Existing Client  13/06/1974         04/02/2009   \n2         9194  0  Non Existing Client  07/11/1973         03/04/2012   \n3         3016  1      Existing Client  08/07/1982         25/08/2011   \n4         6524  0  Non Existing Client  18/08/1953         10/01/2012   \n\n    P_Client Educational_Level Marital_Status  Number_Of_Dependant  \\\n0  NP_Client        University        Married                  3.0   \n1   P_Client        University        Married                  0.0   \n2  NP_Client        University        Married                  2.0   \n3  NP_Client        University        Married                  3.0   \n4  NP_Client        University        Married                  2.0   \n\n   Years_At_Residence Net_Annual_Income  Years_At_Business Prod_Sub_Category  \\\n0                   1                36                1.0                 C   \n1                  12                18                2.0                 C   \n2                  10                36                1.0                 C   \n3                   3                36                1.0                 C   \n4                   1                36                1.0                 C   \n\n  Prod_Decision_Date Source Type_Of_Residence  Nb_Of_Products  \\\n0         14/02/2012  Sales             Owned               1   \n1         30/06/2011  Sales           Parents               1   \n2         04/04/2012  Sales             Owned               1   \n3         07/09/2011  Sales          New rent               1   \n4         11/01/2012  Sales             Owned               1   \n\n  Prod_Closed_Date Prod_Category  \n0              NaN             B  \n1              NaN             G  \n2              NaN             B  \n3       31/12/2012             L  \n4              NaN             D  ",
      "text/html": "<div>\n<style scoped>\n    .dataframe tbody tr th:only-of-type {\n        vertical-align: middle;\n    }\n\n    .dataframe tbody tr th {\n        vertical-align: top;\n    }\n\n    .dataframe thead th {\n        text-align: right;\n    }\n</style>\n<table border=\"1\" class=\"dataframe\">\n  <thead>\n    <tr style=\"text-align: right;\">\n      <th></th>\n      <th>Id_Customer</th>\n      <th>Y</th>\n      <th>Customer_Type</th>\n      <th>BirthDate</th>\n      <th>Customer_Open_Date</th>\n      <th>P_Client</th>\n      <th>Educational_Level</th>\n      <th>Marital_Status</th>\n      <th>Number_Of_Dependant</th>\n      <th>Years_At_Residence</th>\n      <th>Net_Annual_Income</th>\n      <th>Years_At_Business</th>\n      <th>Prod_Sub_Category</th>\n      <th>Prod_Decision_Date</th>\n      <th>Source</th>\n      <th>Type_Of_Residence</th>\n      <th>Nb_Of_Products</th>\n      <th>Prod_Closed_Date</th>\n      <th>Prod_Category</th>\n    </tr>\n  </thead>\n  <tbody>\n    <tr>\n      <th>0</th>\n      <td>7440</td>\n      <td>0</td>\n      <td>Non Existing Client</td>\n      <td>07/08/1977</td>\n      <td>13/02/2012</td>\n      <td>NP_Client</td>\n      <td>University</td>\n      <td>Married</td>\n      <td>3.0</td>\n      <td>1</td>\n      <td>36</td>\n      <td>1.0</td>\n      <td>C</td>\n      <td>14/02/2012</td>\n      <td>Sales</td>\n      <td>Owned</td>\n      <td>1</td>\n      <td>NaN</td>\n      <td>B</td>\n    </tr>\n    <tr>\n      <th>1</th>\n      <td>573</td>\n      <td>0</td>\n      <td>Existing Client</td>\n      <td>13/06/1974</td>\n      <td>04/02/2009</td>\n      <td>P_Client</td>\n      <td>University</td>\n      <td>Married</td>\n      <td>0.0</td>\n      <td>12</td>\n      <td>18</td>\n      <td>2.0</td>\n      <td>C</td>\n      <td>30/06/2011</td>\n      <td>Sales</td>\n      <td>Parents</td>\n      <td>1</td>\n      <td>NaN</td>\n      <td>G</td>\n    </tr>\n    <tr>\n      <th>2</th>\n      <td>9194</td>\n      <td>0</td>\n      <td>Non Existing Client</td>\n      <td>07/11/1973</td>\n      <td>03/04/2012</td>\n      <td>NP_Client</td>\n      <td>University</td>\n      <td>Married</td>\n      <td>2.0</td>\n      <td>10</td>\n      <td>36</td>\n      <td>1.0</td>\n      <td>C</td>\n      <td>04/04/2012</td>\n      <td>Sales</td>\n      <td>Owned</td>\n      <td>1</td>\n      <td>NaN</td>\n      <td>B</td>\n    </tr>\n    <tr>\n      <th>3</th>\n      <td>3016</td>\n      <td>1</td>\n      <td>Existing Client</td>\n      <td>08/07/1982</td>\n      <td>25/08/2011</td>\n      <td>NP_Client</td>\n      <td>University</td>\n      <td>Married</td>\n      <td>3.0</td>\n      <td>3</td>\n      <td>36</td>\n      <td>1.0</td>\n      <td>C</td>\n      <td>07/09/2011</td>\n      <td>Sales</td>\n      <td>New rent</td>\n      <td>1</td>\n      <td>31/12/2012</td>\n      <td>L</td>\n    </tr>\n    <tr>\n      <th>4</th>\n      <td>6524</td>\n      <td>0</td>\n      <td>Non Existing Client</td>\n      <td>18/08/1953</td>\n      <td>10/01/2012</td>\n      <td>NP_Client</td>\n      <td>University</td>\n      <td>Married</td>\n      <td>2.0</td>\n      <td>1</td>\n      <td>36</td>\n      <td>1.0</td>\n      <td>C</td>\n      <td>11/01/2012</td>\n      <td>Sales</td>\n      <td>Owned</td>\n      <td>1</td>\n      <td>NaN</td>\n      <td>D</td>\n    </tr>\n  </tbody>\n</table>\n</div>"
     },
     "metadata": {},
     "output_type": "display_data"
    }
   ],
   "source": [
    "display(df.head())"
   ]
  },
  {
   "cell_type": "code",
   "execution_count": 3,
   "metadata": {
    "pycharm": {
     "is_executing": false
    }
   },
   "outputs": [
    {
     "data": {
      "text/plain": "        Id_Customer            Y        Customer_Type   BirthDate  \\\ncount   5380.000000  5380.000000                 5380        5380   \nunique          NaN          NaN                    2        4382   \ntop             NaN          NaN  Non Existing Client  01/01/1973   \nfreq            NaN          NaN                 3369           7   \nmean    4784.535688     0.073048                  NaN         NaN   \nstd     2781.436262     0.260240                  NaN         NaN   \nmin        1.000000     0.000000                  NaN         NaN   \n25%     2368.500000     0.000000                  NaN         NaN   \n50%     4762.500000     0.000000                  NaN         NaN   \n75%     7180.250000     0.000000                  NaN         NaN   \nmax     9605.000000     1.000000                  NaN         NaN   \n\n       Customer_Open_Date   P_Client Educational_Level Marital_Status  \\\ncount                5380       5380              5380           5380   \nunique               1244          2                 4              5   \ntop            05/12/2011  NP_Client        University        Married   \nfreq                   39       4968              4785           4206   \nmean                  NaN        NaN               NaN            NaN   \nstd                   NaN        NaN               NaN            NaN   \nmin                   NaN        NaN               NaN            NaN   \n25%                   NaN        NaN               NaN            NaN   \n50%                   NaN        NaN               NaN            NaN   \n75%                   NaN        NaN               NaN            NaN   \nmax                   NaN        NaN               NaN            NaN   \n\n        Number_Of_Dependant  Years_At_Residence Net_Annual_Income  \\\ncount           5378.000000         5380.000000              5378   \nunique                  NaN                 NaN               522   \ntop                     NaN                 NaN                36   \nfreq                    NaN                 NaN              1807   \nmean               1.058572           12.626022               NaN   \nstd                1.339001            9.972164               NaN   \nmin                0.000000            0.000000               NaN   \n25%                0.000000            4.000000               NaN   \n50%                0.000000           10.000000               NaN   \n75%                2.000000           18.000000               NaN   \nmax               20.000000           70.000000               NaN   \n\n        Years_At_Business Prod_Sub_Category Prod_Decision_Date Source  \\\ncount         5378.000000              5380               5380   5380   \nunique                NaN                 3                276      2   \ntop                   NaN                 C         06/12/2011  Sales   \nfreq                  NaN              4638                 48   4119   \nmean             4.266270               NaN                NaN    NaN   \nstd              7.225926               NaN                NaN    NaN   \nmin              0.000000               NaN                NaN    NaN   \n25%              1.000000               NaN                NaN    NaN   \n50%              1.000000               NaN                NaN    NaN   \n75%              4.000000               NaN                NaN    NaN   \nmax             98.000000               NaN                NaN    NaN   \n\n       Type_Of_Residence  Nb_Of_Products Prod_Closed_Date Prod_Category  \ncount               5380     5380.000000             1174          5380  \nunique                 5             NaN              331            13  \ntop                Owned             NaN       30/05/2013             B  \nfreq                4791             NaN               98          3176  \nmean                 NaN        1.089033              NaN           NaN  \nstd                  NaN        0.297587              NaN           NaN  \nmin                  NaN        1.000000              NaN           NaN  \n25%                  NaN        1.000000              NaN           NaN  \n50%                  NaN        1.000000              NaN           NaN  \n75%                  NaN        1.000000              NaN           NaN  \nmax                  NaN        3.000000              NaN           NaN  ",
      "text/html": "<div>\n<style scoped>\n    .dataframe tbody tr th:only-of-type {\n        vertical-align: middle;\n    }\n\n    .dataframe tbody tr th {\n        vertical-align: top;\n    }\n\n    .dataframe thead th {\n        text-align: right;\n    }\n</style>\n<table border=\"1\" class=\"dataframe\">\n  <thead>\n    <tr style=\"text-align: right;\">\n      <th></th>\n      <th>Id_Customer</th>\n      <th>Y</th>\n      <th>Customer_Type</th>\n      <th>BirthDate</th>\n      <th>Customer_Open_Date</th>\n      <th>P_Client</th>\n      <th>Educational_Level</th>\n      <th>Marital_Status</th>\n      <th>Number_Of_Dependant</th>\n      <th>Years_At_Residence</th>\n      <th>Net_Annual_Income</th>\n      <th>Years_At_Business</th>\n      <th>Prod_Sub_Category</th>\n      <th>Prod_Decision_Date</th>\n      <th>Source</th>\n      <th>Type_Of_Residence</th>\n      <th>Nb_Of_Products</th>\n      <th>Prod_Closed_Date</th>\n      <th>Prod_Category</th>\n    </tr>\n  </thead>\n  <tbody>\n    <tr>\n      <th>count</th>\n      <td>5380.000000</td>\n      <td>5380.000000</td>\n      <td>5380</td>\n      <td>5380</td>\n      <td>5380</td>\n      <td>5380</td>\n      <td>5380</td>\n      <td>5380</td>\n      <td>5378.000000</td>\n      <td>5380.000000</td>\n      <td>5378</td>\n      <td>5378.000000</td>\n      <td>5380</td>\n      <td>5380</td>\n      <td>5380</td>\n      <td>5380</td>\n      <td>5380.000000</td>\n      <td>1174</td>\n      <td>5380</td>\n    </tr>\n    <tr>\n      <th>unique</th>\n      <td>NaN</td>\n      <td>NaN</td>\n      <td>2</td>\n      <td>4382</td>\n      <td>1244</td>\n      <td>2</td>\n      <td>4</td>\n      <td>5</td>\n      <td>NaN</td>\n      <td>NaN</td>\n      <td>522</td>\n      <td>NaN</td>\n      <td>3</td>\n      <td>276</td>\n      <td>2</td>\n      <td>5</td>\n      <td>NaN</td>\n      <td>331</td>\n      <td>13</td>\n    </tr>\n    <tr>\n      <th>top</th>\n      <td>NaN</td>\n      <td>NaN</td>\n      <td>Non Existing Client</td>\n      <td>01/01/1973</td>\n      <td>05/12/2011</td>\n      <td>NP_Client</td>\n      <td>University</td>\n      <td>Married</td>\n      <td>NaN</td>\n      <td>NaN</td>\n      <td>36</td>\n      <td>NaN</td>\n      <td>C</td>\n      <td>06/12/2011</td>\n      <td>Sales</td>\n      <td>Owned</td>\n      <td>NaN</td>\n      <td>30/05/2013</td>\n      <td>B</td>\n    </tr>\n    <tr>\n      <th>freq</th>\n      <td>NaN</td>\n      <td>NaN</td>\n      <td>3369</td>\n      <td>7</td>\n      <td>39</td>\n      <td>4968</td>\n      <td>4785</td>\n      <td>4206</td>\n      <td>NaN</td>\n      <td>NaN</td>\n      <td>1807</td>\n      <td>NaN</td>\n      <td>4638</td>\n      <td>48</td>\n      <td>4119</td>\n      <td>4791</td>\n      <td>NaN</td>\n      <td>98</td>\n      <td>3176</td>\n    </tr>\n    <tr>\n      <th>mean</th>\n      <td>4784.535688</td>\n      <td>0.073048</td>\n      <td>NaN</td>\n      <td>NaN</td>\n      <td>NaN</td>\n      <td>NaN</td>\n      <td>NaN</td>\n      <td>NaN</td>\n      <td>1.058572</td>\n      <td>12.626022</td>\n      <td>NaN</td>\n      <td>4.266270</td>\n      <td>NaN</td>\n      <td>NaN</td>\n      <td>NaN</td>\n      <td>NaN</td>\n      <td>1.089033</td>\n      <td>NaN</td>\n      <td>NaN</td>\n    </tr>\n    <tr>\n      <th>std</th>\n      <td>2781.436262</td>\n      <td>0.260240</td>\n      <td>NaN</td>\n      <td>NaN</td>\n      <td>NaN</td>\n      <td>NaN</td>\n      <td>NaN</td>\n      <td>NaN</td>\n      <td>1.339001</td>\n      <td>9.972164</td>\n      <td>NaN</td>\n      <td>7.225926</td>\n      <td>NaN</td>\n      <td>NaN</td>\n      <td>NaN</td>\n      <td>NaN</td>\n      <td>0.297587</td>\n      <td>NaN</td>\n      <td>NaN</td>\n    </tr>\n    <tr>\n      <th>min</th>\n      <td>1.000000</td>\n      <td>0.000000</td>\n      <td>NaN</td>\n      <td>NaN</td>\n      <td>NaN</td>\n      <td>NaN</td>\n      <td>NaN</td>\n      <td>NaN</td>\n      <td>0.000000</td>\n      <td>0.000000</td>\n      <td>NaN</td>\n      <td>0.000000</td>\n      <td>NaN</td>\n      <td>NaN</td>\n      <td>NaN</td>\n      <td>NaN</td>\n      <td>1.000000</td>\n      <td>NaN</td>\n      <td>NaN</td>\n    </tr>\n    <tr>\n      <th>25%</th>\n      <td>2368.500000</td>\n      <td>0.000000</td>\n      <td>NaN</td>\n      <td>NaN</td>\n      <td>NaN</td>\n      <td>NaN</td>\n      <td>NaN</td>\n      <td>NaN</td>\n      <td>0.000000</td>\n      <td>4.000000</td>\n      <td>NaN</td>\n      <td>1.000000</td>\n      <td>NaN</td>\n      <td>NaN</td>\n      <td>NaN</td>\n      <td>NaN</td>\n      <td>1.000000</td>\n      <td>NaN</td>\n      <td>NaN</td>\n    </tr>\n    <tr>\n      <th>50%</th>\n      <td>4762.500000</td>\n      <td>0.000000</td>\n      <td>NaN</td>\n      <td>NaN</td>\n      <td>NaN</td>\n      <td>NaN</td>\n      <td>NaN</td>\n      <td>NaN</td>\n      <td>0.000000</td>\n      <td>10.000000</td>\n      <td>NaN</td>\n      <td>1.000000</td>\n      <td>NaN</td>\n      <td>NaN</td>\n      <td>NaN</td>\n      <td>NaN</td>\n      <td>1.000000</td>\n      <td>NaN</td>\n      <td>NaN</td>\n    </tr>\n    <tr>\n      <th>75%</th>\n      <td>7180.250000</td>\n      <td>0.000000</td>\n      <td>NaN</td>\n      <td>NaN</td>\n      <td>NaN</td>\n      <td>NaN</td>\n      <td>NaN</td>\n      <td>NaN</td>\n      <td>2.000000</td>\n      <td>18.000000</td>\n      <td>NaN</td>\n      <td>4.000000</td>\n      <td>NaN</td>\n      <td>NaN</td>\n      <td>NaN</td>\n      <td>NaN</td>\n      <td>1.000000</td>\n      <td>NaN</td>\n      <td>NaN</td>\n    </tr>\n    <tr>\n      <th>max</th>\n      <td>9605.000000</td>\n      <td>1.000000</td>\n      <td>NaN</td>\n      <td>NaN</td>\n      <td>NaN</td>\n      <td>NaN</td>\n      <td>NaN</td>\n      <td>NaN</td>\n      <td>20.000000</td>\n      <td>70.000000</td>\n      <td>NaN</td>\n      <td>98.000000</td>\n      <td>NaN</td>\n      <td>NaN</td>\n      <td>NaN</td>\n      <td>NaN</td>\n      <td>3.000000</td>\n      <td>NaN</td>\n      <td>NaN</td>\n    </tr>\n  </tbody>\n</table>\n</div>"
     },
     "metadata": {},
     "output_type": "display_data"
    }
   ],
   "source": [
    "display(df.describe(include=\"all\"))"
   ]
  },
  {
   "cell_type": "code",
   "execution_count": null,
   "outputs": [],
   "source": [
    "\n"
   ],
   "metadata": {
    "collapsed": false,
    "pycharm": {
     "name": "#%%\n"
    }
   }
  }
 ],
 "metadata": {
  "kernelspec": {
   "display_name": "Python 3",
   "language": "python",
   "name": "python3"
  },
  "language_info": {
   "codemirror_mode": {
    "name": "ipython",
    "version": 3
   },
   "file_extension": ".py",
   "mimetype": "text/x-python",
   "name": "python",
   "nbconvert_exporter": "python",
   "pygments_lexer": "ipython3",
   "version": "3.7.4"
  },
  "pycharm": {
   "stem_cell": {
    "cell_type": "raw",
    "source": [],
    "metadata": {
     "collapsed": false
    }
   }
  }
 },
 "nbformat": 4,
 "nbformat_minor": 2
}